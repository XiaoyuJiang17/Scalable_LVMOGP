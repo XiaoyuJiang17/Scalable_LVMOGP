{
 "cells": [
  {
   "cell_type": "code",
   "execution_count": null,
   "metadata": {},
   "outputs": [],
   "source": [
    "import sys\n",
    "sys.path.append('/Users/jiangxiaoyu/Desktop/All Projects/Scalable_LVMOGP/')\n",
    "import torch\n",
    "from torch import Tensor\n",
    "import numpy as np\n",
    "import yaml\n",
    "from code_blocks.our_models.Multi_ISVGP import Multi_Variational_IGP"
   ]
  },
  {
   "cell_type": "code",
   "execution_count": null,
   "metadata": {},
   "outputs": [],
   "source": [
    "def load_model_and_likelihoods(multi_variational_igp, filename):\n",
    "    state_dicts = torch.load(filename)\n",
    "    for model, state_dict in zip(multi_variational_igp.models, state_dicts['models']):\n",
    "        model.load_state_dict(state_dict)\n",
    "    for likelihood, state_dict in zip(multi_variational_igp.likelihoods, state_dicts['likelihoods']):\n",
    "        likelihood.load_state_dict(state_dict)"
   ]
  },
  {
   "cell_type": "code",
   "execution_count": null,
   "metadata": {},
   "outputs": [],
   "source": [
    "curr_config = '/Users/jiangxiaoyu/Desktop/All Projects/Scalable_LVMOGP/configs/spatiotemp_IGP/Periodic_times_Scale_RBF/IndepSVGP_unfix.yaml'\n",
    "with open(curr_config, 'r') as file:\n",
    "        config = yaml.safe_load(file)"
   ]
  },
  {
   "cell_type": "code",
   "execution_count": null,
   "metadata": {},
   "outputs": [],
   "source": [
    "MultiIGP = Multi_Variational_IGP(\n",
    "        num_models = config['n_outputs'], \n",
    "        inducing_points = Tensor(np.linspace(config['init_inducing_input_LB'], config['init_inducing_input_UB'], config['n_inducing_input']).reshape(-1, 1)), \n",
    "        init_likelihood_noise = config['init_likelihood_noise'], \n",
    "        kernel_type = config['input_kernel_type'], \n",
    "        learn_inducing_locations= config['learn_inducing_locations_input'],\n",
    "        input_dim = config['input_dim']\n",
    "    )"
   ]
  },
  {
   "cell_type": "code",
   "execution_count": null,
   "metadata": {},
   "outputs": [],
   "source": [
    "load_model_and_likelihoods(MultiIGP, '/Users/jiangxiaoyu/Desktop/All Projects/Scalable_LVMOGP/experiments_results/spatiotemp_IGP/Periodic_times_Scale_RBF/IndepSVGP_unfix/2024-02-19_12:24:14/MultiIGPs_models_and_likelihoods.pth')"
   ]
  },
  {
   "cell_type": "code",
   "execution_count": null,
   "metadata": {},
   "outputs": [],
   "source": [
    "problemtic_model_1 = MultiIGP.get_model(740) # 333, 740, 885, \n",
    "problemtic_model_1_inducing_points = problemtic_model_1.variational_strategy.inducing_points.detach()"
   ]
  },
  {
   "cell_type": "code",
   "execution_count": null,
   "metadata": {},
   "outputs": [],
   "source": [
    "random_points = torch.randn(20, 1)"
   ]
  },
  {
   "cell_type": "code",
   "execution_count": null,
   "metadata": {},
   "outputs": [],
   "source": [
    "norm_model_1 = MultiIGP.get_model(500) # 500\n",
    "norm_model_1_inducing_points = norm_model_1.variational_strategy.inducing_points.detach()"
   ]
  },
  {
   "cell_type": "code",
   "execution_count": null,
   "metadata": {},
   "outputs": [],
   "source": [
    "for name, param in norm_model_1.covar_module_input.named_parameters():\n",
    "    print(name)\n",
    "    print(param)"
   ]
  },
  {
   "cell_type": "code",
   "execution_count": null,
   "metadata": {},
   "outputs": [],
   "source": [
    "problemtic_model_1.covar_module_input.kernels[0].raw_lengthscale.data = torch.tensor([[-0.2725]])\n",
    "problemtic_model_1.covar_module_input.kernels[0].raw_period_length.data = torch.tensor([[-0.9371]])\n",
    "problemtic_model_1.covar_module_input.kernels[1].raw_outputscale.data = torch.tensor(0.6047)\n",
    "problemtic_model_1.covar_module_input.kernels[1].base_kernel.raw_lengthscale.data = torch.tensor([[19.0558]])\n",
    "\n",
    "\n",
    "problemtic_model_1.variational_strategy._variational_distribution = norm_model_1.variational_strategy._variational_distribution"
   ]
  },
  {
   "cell_type": "code",
   "execution_count": null,
   "metadata": {},
   "outputs": [],
   "source": [
    "norm_model_1(random_points)"
   ]
  },
  {
   "cell_type": "code",
   "execution_count": null,
   "metadata": {},
   "outputs": [],
   "source": [
    "for name, params in norm_model_1.named_parameters():\n",
    "    print(name)"
   ]
  },
  {
   "cell_type": "code",
   "execution_count": null,
   "metadata": {},
   "outputs": [],
   "source": [
    "# inducing_points = problemtic_model_1.variational_strategy.inducing_points.detach()\n",
    "# problemtic_model_1.covar_module_input.kernels[0].raw_lengthscale.data = Tensor([[-0.5]])\n",
    "# print(problemtic_model_1.covar_module_input.kernels[0].raw_lengthscale.data)\n",
    "\n",
    "problemtic_model_1(random_points)"
   ]
  },
  {
   "cell_type": "code",
   "execution_count": null,
   "metadata": {},
   "outputs": [],
   "source": []
  }
 ],
 "metadata": {
  "kernelspec": {
   "display_name": "GPLVM",
   "language": "python",
   "name": "python3"
  },
  "language_info": {
   "codemirror_mode": {
    "name": "ipython",
    "version": 3
   },
   "file_extension": ".py",
   "mimetype": "text/x-python",
   "name": "python",
   "nbconvert_exporter": "python",
   "pygments_lexer": "ipython3",
   "version": "3.9.18"
  }
 },
 "nbformat": 4,
 "nbformat_minor": 2
}
