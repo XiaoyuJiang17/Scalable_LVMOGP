{
 "cells": [
  {
   "cell_type": "code",
   "execution_count": null,
   "metadata": {},
   "outputs": [],
   "source": [
    "'''\n",
    "import sys\n",
    "sys.path.append('/Users/jiangxiaoyu/Desktop/All Projects/Scalable_LVMOGP/')\n",
    "from code_blocks.kernels.periodic_inputs_maternkernel import PeriodicInputsMaternKernel\n",
    "from code_blocks.likelihoods.gaussian_likelihood import GaussianLikelihood\n",
    "from gpytorch.kernels import MaternKernel\n",
    "import torch\n",
    "\n",
    "original_kernel = MaternKernel(nu=2.5)\n",
    "test_kernel = PeriodicInputsMaternKernel(nu=2.5, period=0.33)\n",
    "test_likelihood = GaussianLikelihood()\n",
    "'''"
   ]
  },
  {
   "cell_type": "code",
   "execution_count": null,
   "metadata": {},
   "outputs": [],
   "source": [
    "'''\n",
    "test_tensor = torch.tensor([0.5, 1, 2, 3])\n",
    "test_kernel(test_tensor).to_dense()\n",
    "x1 = 2 * test_tensor * torch.pi / 0.33\n",
    "x1 = torch.cat((torch.sin(x1).reshape(-1, 1), torch.cos(x1).reshape(-1, 1)), axis=1)\n",
    "original_kernel(x1).to_dense()\n",
    "'''"
   ]
  },
  {
   "cell_type": "code",
   "execution_count": null,
   "metadata": {},
   "outputs": [],
   "source": [
    "'''\n",
    "original_kernel.lengthscale = 15.\n",
    "for name, params in original_kernel.named_parameters():\n",
    "    print(name)\n",
    "    print(params)\n",
    "'''"
   ]
  },
  {
   "cell_type": "code",
   "execution_count": null,
   "metadata": {},
   "outputs": [],
   "source": [
    "'''\n",
    "import yaml\n",
    "\n",
    "root_config = '/Users/jiangxiaoyu/Desktop/All Projects/Scalable_LVMOGP/configs/' \n",
    "# NOTE: Specify name here for different experiments: \n",
    "# rnd (fix) + unfix (fix) ; first referring to initialization, second referring to inducing points in input space \n",
    "curr_config_name = 'spatiotemp/Scale_Matern52_plus_Scale_PeriodicInputsMatern52/lvmogp_catlatent_rnd_unfix' \n",
    "curr_config = f'{root_config}/{curr_config_name}.yaml'\n",
    "with open(curr_config, 'r') as file: \n",
    "    config = yaml.safe_load(file) \n",
    "\n",
    "import sys\n",
    "sys.path.append('/Users/jiangxiaoyu/Desktop/All Projects/Scalable_LVMOGP/')\n",
    "from code_blocks.likelihoods.gaussian_likelihood import GaussianLikelihood\n",
    "from gplvm_init import GPLVM, train_gplvm\n",
    "from run_experiments.prepare_dataset import prepare_spatio_temp_data\n",
    "import torch\n",
    "\n",
    "\n",
    "_, data_Y_squeezed, *arg = prepare_spatio_temp_data(config=config)\n",
    "\n",
    "data_Y = data_Y_squeezed.reshape(config['n_outputs'], config['n_input'])[:, :config['n_input_train']]\n",
    "\n",
    "class GaussianLikelihoodWithMissingObs(GaussianLikelihood):\n",
    "    def __init__(self, **kwargs):\n",
    "        super().__init__(**kwargs)\n",
    "\n",
    "    @staticmethod\n",
    "    def _get_masked_obs(x):\n",
    "        missing_idx = x.isnan()\n",
    "        x_masked = x.masked_fill(missing_idx, -999.)\n",
    "        return missing_idx, x_masked\n",
    "\n",
    "    def expected_log_prob(self, target, input, *params, **kwargs):\n",
    "        missing_idx, target = self._get_masked_obs(target)\n",
    "        res = super().expected_log_prob(target, input, *params, **kwargs)\n",
    "        return res * ~missing_idx\n",
    "\n",
    "    def log_marginal(self, observations, function_dist, *params, **kwargs):\n",
    "        missing_idx, observations = self._get_masked_obs(observations)\n",
    "        res = super().log_marginal(observations, function_dist, *params, **kwargs)\n",
    "        return res * ~missing_idx\n",
    "    \n",
    "my_GPLVM = GPLVM(n = config['n_outputs'], \n",
    "                 data_dim= config['n_input_train'], \n",
    "                 latent_dim = 2, \n",
    "                 n_inducing = 20)\n",
    "\n",
    "my_likelihood = GaussianLikelihoodWithMissingObs()\n",
    "\n",
    "_, _, losses = train_gplvm(my_GPLVM, my_likelihood, data_Y)\n",
    "\n",
    "import matplotlib.pyplot as plt\n",
    "plt.plot(losses)\n",
    "'''"
   ]
  },
  {
   "cell_type": "markdown",
   "metadata": {},
   "source": [
    "# Test cached function"
   ]
  },
  {
   "cell_type": "code",
   "execution_count": null,
   "metadata": {},
   "outputs": [],
   "source": [
    "from gpytorch.utils.memoize import cached"
   ]
  },
  {
   "cell_type": "code",
   "execution_count": null,
   "metadata": {},
   "outputs": [],
   "source": [
    "class class_test():\n",
    "\n",
    "    def __init__(self, a=1.):\n",
    "        self.a = a\n",
    "    \n",
    "    # @property\n",
    "    @cached(name='value_b')\n",
    "    def value_b(self):\n",
    "        return self.a ** 2\n",
    "\n",
    "class_test = class_test(a=10.)\n",
    "print(class_test.value_b())\n",
    "print(class_test._memoize_cache)\n",
    "class_test.a = 11.\n",
    "print(class_test.a)\n",
    "print(class_test.value_b())\n",
    "print(class_test._memoize_cache)\n",
    "\n",
    "class class_test_2():\n",
    "\n",
    "    def __init__(self, a=1.):\n",
    "        self.a = a\n",
    "    \n",
    "    # @property\n",
    "    @cached(name='value_b')\n",
    "    def value_b(self, c):\n",
    "        return self.a ** c\n",
    "    \n",
    "class_test_2 = class_test_2(a=10.)\n",
    "print(class_test_2.value_b(c=2.))\n",
    "print(class_test_2._memoize_cache)\n",
    "\n",
    "class_test_2.a = 11.\n",
    "\n",
    "print(class_test_2.value_b(c=2.))\n",
    "print(class_test_2._memoize_cache)\n",
    "\n",
    "print(class_test_2.value_b(c=3.))\n",
    "print(class_test_2._memoize_cache)\n",
    "\n",
    "import pickle\n",
    "\n",
    "pickle.dumps({'c': 2.})"
   ]
  },
  {
   "cell_type": "code",
   "execution_count": null,
   "metadata": {},
   "outputs": [],
   "source": []
  },
  {
   "cell_type": "code",
   "execution_count": null,
   "metadata": {},
   "outputs": [],
   "source": []
  },
  {
   "cell_type": "code",
   "execution_count": null,
   "metadata": {},
   "outputs": [],
   "source": []
  },
  {
   "cell_type": "code",
   "execution_count": null,
   "metadata": {},
   "outputs": [],
   "source": []
  }
 ],
 "metadata": {
  "kernelspec": {
   "display_name": "GPLVM",
   "language": "python",
   "name": "python3"
  },
  "language_info": {
   "codemirror_mode": {
    "name": "ipython",
    "version": 3
   },
   "file_extension": ".py",
   "mimetype": "text/x-python",
   "name": "python",
   "nbconvert_exporter": "python",
   "pygments_lexer": "ipython3",
   "version": "3.9.18"
  }
 },
 "nbformat": 4,
 "nbformat_minor": 2
}
