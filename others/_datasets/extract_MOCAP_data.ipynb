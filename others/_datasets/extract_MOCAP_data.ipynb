{
 "cells": [
  {
   "cell_type": "code",
   "execution_count": 1,
   "metadata": {},
   "outputs": [],
   "source": [
    "import sys\n",
    "sys.path.append('/Users/jiangxiaoyu/Desktop/All Projects/Scalable_LVMOGP/')\n",
    "import matplotlib.pyplot as plt\n",
    "import pandas as pd\n",
    "import numpy as np\n",
    "import torch\n",
    "from torch import Tensor"
   ]
  },
  {
   "cell_type": "code",
   "execution_count": 2,
   "metadata": {},
   "outputs": [],
   "source": [
    "def process_motion_capture_data(file_path, num_times=309):\n",
    "    # Dictionary with the number of dimensions for each body part\n",
    "    # return: np.ndarray; of shape (62, #time_points)\n",
    "    # i.e. 62 outputs, each output has #time_points input locations.\n",
    "    dimensions_dict = {\n",
    "        'root': 6, 'lowerback': 3, 'upperback': 3, 'thorax': 3, \n",
    "        'lowerneck': 3, 'upperneck': 3, 'head': 3, 'rclavicle': 2, \n",
    "        'rhumerus': 3, 'rradius': 1, 'rwrist': 1, 'rhand': 2, \n",
    "        'rfingers': 1, 'rthumb': 2, 'lclavicle': 2, 'lhumerus': 3, \n",
    "        'lradius': 1, 'lwrist': 1, 'lhand': 2, 'lfingers': 1, \n",
    "        'lthumb': 2, 'rfemur': 3, 'rtibia': 1, 'rfoot': 2, \n",
    "        'rtoes': 1, 'lfemur': 3, 'ltibia': 1, 'lfoot': 2, \n",
    "        'ltoes': 1\n",
    "    }\n",
    "\n",
    "    # Calculate the total number of dimensions\n",
    "    total_dimensions = sum(dimensions_dict.values())\n",
    "\n",
    "    # Initialize the numpy array\n",
    "    data_array = np.zeros((total_dimensions, num_times))\n",
    "\n",
    "    # Open the file and process each line\n",
    "    with open(file_path, 'r') as file:\n",
    "        # Skip the first three lines (header)\n",
    "        for _ in range(3):\n",
    "            next(file)\n",
    "\n",
    "        current_timestamp = 0\n",
    "        current_dimension = 0\n",
    "        for line in file:\n",
    "            if line.strip().isdigit():\n",
    "                # New timestamp line found\n",
    "                current_timestamp = int(line.strip()) - 1\n",
    "                current_dimension = 0  # Reset dimension counter for each timestamp\n",
    "            else:\n",
    "                # Process body part data\n",
    "                parts = line.strip().split()\n",
    "                body_part = parts[0]\n",
    "                num_dims = dimensions_dict[body_part]\n",
    "                values = np.array([float(v) for v in parts[1:1+num_dims]])\n",
    "                data_array[current_dimension:current_dimension+num_dims, current_timestamp] = values\n",
    "                current_dimension += num_dims\n",
    "\n",
    "    return data_array"
   ]
  },
  {
   "cell_type": "markdown",
   "metadata": {},
   "source": [
    "# Load in data"
   ]
  },
  {
   "cell_type": "code",
   "execution_count": 3,
   "metadata": {},
   "outputs": [
    {
     "name": "stdout",
     "output_type": "stream",
     "text": [
      "(62, 364)\n"
     ]
    }
   ],
   "source": [
    "mocap_txt_data_folder = '/Users/jiangxiaoyu/Desktop/All Projects/Scalable_LVMOGP/data/CMU_motion_capture/txt_files'\n",
    "txt_data_name = '64_08amc' # 08_02amc.txt (309); 09_01amc.txt (148); 64_08amc.txt (364); 118_03amc.txt (497)\n",
    "txt_data_path = f'{mocap_txt_data_folder}/{txt_data_name}.txt'\n",
    "\n",
    "data = process_motion_capture_data(txt_data_path, num_times=364)\n",
    "print(data.shape)"
   ]
  },
  {
   "cell_type": "markdown",
   "metadata": {},
   "source": [
    "# Have a plot"
   ]
  },
  {
   "cell_type": "code",
   "execution_count": 4,
   "metadata": {},
   "outputs": [
    {
     "data": {
      "text/plain": [
       "[<matplotlib.lines.Line2D at 0x14fe3cdf0>]"
      ]
     },
     "execution_count": 4,
     "metadata": {},
     "output_type": "execute_result"
    },
    {
     "data": {
      "image/png": "[encoded data removed]",
      "text/plain": [
       "<Figure size 640x480 with 1 Axes>"
      ]
     },
     "metadata": {},
     "output_type": "display_data"
    }
   ],
   "source": [
    "plt.plot(data[47])"
   ]
  },
  {
   "cell_type": "code",
   "execution_count": 5,
   "metadata": {},
   "outputs": [
    {
     "name": "stdout",
     "output_type": "stream",
     "text": [
      "(62, 364)\n"
     ]
    }
   ],
   "source": [
    "print(data.shape)"
   ]
  },
  {
   "cell_type": "markdown",
   "metadata": {},
   "source": [
    "# Select outputs according to NSR"
   ]
  },
  {
   "cell_type": "code",
   "execution_count": 6,
   "metadata": {},
   "outputs": [],
   "source": [
    "def compute_signal_to_noise_ratio(time_series:Tensor):\n",
    "    '''\n",
    "    Compute SNR for all time series.\n",
    "    Arg:\n",
    "        time_series: of shape (num_time_series, num_timeframes)\n",
    "    Return:\n",
    "        a list of SNR\n",
    "    '''\n",
    "    snr_list = []\n",
    "    for i in range(time_series.shape[0]):\n",
    "        # first standardize data:\n",
    "        # time_series[i] = (time_series[i] - time_series[i].mean()) / (time_series[i].std() + 1e-8)\n",
    "\n",
    "        # Calculate the mean (signal)\n",
    "        signal_mean = time_series[i].mean()\n",
    "        \n",
    "        # Calculate the standard deviation (noise)\n",
    "        noise_std = time_series[i].std()\n",
    "\n",
    "        # Compute SNR. If noise_std is zero, handle the division by zero case.\n",
    "        if noise_std <= 1e-10:\n",
    "            snr = float('inf')  # Infinite SNR if there is no noise\n",
    "        else:\n",
    "            snr = signal_mean / noise_std\n",
    "\n",
    "        # Convert to dB (20*log10(snr)) and append to list\n",
    "        # We use 20*log10 for amplitude ratio. For power ratio, it would be 10*log10.\n",
    "        snr_db = float(20 * np.log10(abs(snr)))\n",
    "        snr_list.append(snr_db)\n",
    "\n",
    "    # Sort the SNR list in descending order and get the sorted indices\n",
    "    sorted_indices = np.argsort(snr_list)[::-1]\n",
    "\n",
    "    return snr_list, sorted_indices.tolist()\n",
    "\n",
    "def count_up_and_down(time_series:Tensor):\n",
    "    '''\n",
    "    Count how many up and down in the time series.\n",
    "    '''\n",
    "\n",
    "    origin_ts = time_series[:, 1:]\n",
    "    translate_ts = time_series[:, :-1]\n",
    "    diff = origin_ts - translate_ts\n",
    "\n",
    "    origin_diff = diff[:, 1:]\n",
    "    translate_diff = diff[:, :-1]\n",
    "    sign_change = ((origin_diff * translate_diff) > 0)\n",
    "    \n",
    "\n",
    "    return None\n",
    "\n",
    "def mean_absolute_change(time_series: Tensor):\n",
    "\n",
    "    time_series = torch.tensor(time_series)\n",
    "    \n",
    "    curr_mac_list = []\n",
    "    for i in range(time_series.shape[0]):\n",
    "        time_series[i] = (time_series[i] - time_series[i].mean()) / (time_series[i].std() + 1e-13)\n",
    "        # current output mean absolute change:\n",
    "        curr_mac = torch.abs(torch.diff(time_series[i])).mean()\n",
    "        curr_mac_list.append(curr_mac.item())\n",
    "        \n",
    "    return np.array(curr_mac_list)\n",
    "\n",
    "def remove_too_small_outputs(time_series: Tensor, threshold=1e-3):\n",
    "    '''\n",
    "    Some time series are varying in a very small range, looks like pure noise.\n",
    "    Remove them.\n",
    "    '''\n",
    "    index_to_keep = []\n",
    "    for i in range(time_series.shape[0]):\n",
    "        cur_max = time_series[i].max()\n",
    "        cur_min = time_series[i].min()\n",
    "        maxi_diff = cur_max - cur_min\n",
    "        if maxi_diff > threshold:\n",
    "            index_to_keep.append(i)\n",
    "    \n",
    "    return time_series[index_to_keep]\n"
   ]
  },
  {
   "cell_type": "code",
   "execution_count": 7,
   "metadata": {},
   "outputs": [
    {
     "data": {
      "text/plain": [
       "\"\\ndata_snr_list, data_sorted_idx = compute_signal_to_noise_ratio(time_series=data)\\ndb_threshold = 5\\nprint(f'How many output with snr over {db_threshold}? Answer: ', ((np.array(data_snr_list) > db_threshold) * 1).sum())\\ndata_selected = data[(np.array(data_snr_list) > db_threshold)]\\nprint(data_selected.shape)\\ndata_selected_2 = remove_too_small_outputs(data_selected, threshold=1e-3)\\nprint(data_selected_2.shape)\\n\""
      ]
     },
     "execution_count": 7,
     "metadata": {},
     "output_type": "execute_result"
    }
   ],
   "source": [
    "'''\n",
    "data_snr_list, data_sorted_idx = compute_signal_to_noise_ratio(time_series=data)\n",
    "db_threshold = 5\n",
    "print(f'How many output with snr over {db_threshold}? Answer: ', ((np.array(data_snr_list) > db_threshold) * 1).sum())\n",
    "data_selected = data[(np.array(data_snr_list) > db_threshold)]\n",
    "print(data_selected.shape)\n",
    "data_selected_2 = remove_too_small_outputs(data_selected, threshold=1e-3)\n",
    "print(data_selected_2.shape)\n",
    "'''"
   ]
  },
  {
   "cell_type": "code",
   "execution_count": 8,
   "metadata": {},
   "outputs": [],
   "source": [
    "mac_list = mean_absolute_change(data)"
   ]
  },
  {
   "cell_type": "code",
   "execution_count": 9,
   "metadata": {},
   "outputs": [
    {
     "name": "stdout",
     "output_type": "stream",
     "text": [
      "(56, 364)\n"
     ]
    }
   ],
   "source": [
    "data_selected_mac_ = data[mac_list < 0.1]\n",
    "data_selected_mac = remove_too_small_outputs(data_selected_mac_)\n",
    "print(data_selected_mac.shape)"
   ]
  },
  {
   "cell_type": "code",
   "execution_count": 23,
   "metadata": {},
   "outputs": [
    {
     "data": {
      "text/plain": [
       "[<matplotlib.lines.Line2D at 0x17e10f2e0>]"
      ]
     },
     "execution_count": 23,
     "metadata": {},
     "output_type": "execute_result"
    },
    {
     "data": {
      "image/png": "[encoded data removed]",
      "text/plain": [
       "<Figure size 640x480 with 1 Axes>"
      ]
     },
     "metadata": {},
     "output_type": "display_data"
    }
   ],
   "source": [
    "plt.plot(data_selected_mac[55])"
   ]
  },
  {
   "cell_type": "markdown",
   "metadata": {},
   "source": [
    "# Save data"
   ]
  },
  {
   "cell_type": "code",
   "execution_count": 11,
   "metadata": {},
   "outputs": [
    {
     "data": {
      "text/plain": [
       "\"\\ncsv_folder_path = '/Users/jiangxiaoyu/Desktop/All Projects/Scalable_LVMOGP/data/CMU_motion_capture/csv_files'\\ncsv_data_name = txt_data_name\\ncsv_to_save = f'{csv_folder_path}/{csv_data_name}.csv'\\npd.DataFrame(data_selected_mac).to_csv(csv_to_save)\\n\""
      ]
     },
     "execution_count": 11,
     "metadata": {},
     "output_type": "execute_result"
    }
   ],
   "source": [
    "'''\n",
    "csv_folder_path = '/Users/jiangxiaoyu/Desktop/All Projects/Scalable_LVMOGP/data/CMU_motion_capture/csv_files'\n",
    "csv_data_name = txt_data_name\n",
    "csv_to_save = f'{csv_folder_path}/{csv_data_name}.csv'\n",
    "pd.DataFrame(data_selected_mac).to_csv(csv_to_save)\n",
    "'''"
   ]
  },
  {
   "cell_type": "markdown",
   "metadata": {},
   "source": []
  }
 ],
 "metadata": {
  "kernelspec": {
   "display_name": "GPLVM",
   "language": "python",
   "name": "python3"
  },
  "language_info": {
   "codemirror_mode": {
    "name": "ipython",
    "version": 3
   },
   "file_extension": ".py",
   "mimetype": "text/x-python",
   "name": "python",
   "nbconvert_exporter": "python",
   "pygments_lexer": "ipython3",
   "version": "3.9.18"
  }
 },
 "nbformat": 4,
 "nbformat_minor": 2
}
